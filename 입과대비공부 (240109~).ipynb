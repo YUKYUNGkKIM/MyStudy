{
 "cells": [
  {
   "cell_type": "markdown",
   "id": "5f0f4240",
   "metadata": {},
   "source": [
    "# 240109"
   ]
  },
  {
   "cell_type": "markdown",
   "id": "385b860a",
   "metadata": {},
   "source": [
    "#### 1.1.2 연습문제: 직선 거리 계산\n",
    "https://wikidocs.net/215049"
   ]
  },
  {
   "cell_type": "code",
   "execution_count": 1,
   "id": "789bee4b",
   "metadata": {},
   "outputs": [
    {
     "data": {
      "text/plain": [
       "813.9410298049853"
      ]
     },
     "execution_count": 1,
     "metadata": {},
     "output_type": "execute_result"
    }
   ],
   "source": [
    "import math\n",
    "math.sqrt(550**2 + 600**2)\n",
    "\n",
    "# 파이썬은 **가 거듭제곱인 것 같다... 망했다..."
   ]
  },
  {
   "cell_type": "markdown",
   "id": "3bed1e49",
   "metadata": {},
   "source": [
    "#### 1.2.1 연습문제: 파일 크기 계산\n",
    "https://wikidocs.net/125567"
   ]
  },
  {
   "cell_type": "code",
   "execution_count": 2,
   "id": "c139eb0c",
   "metadata": {},
   "outputs": [
    {
     "data": {
      "text/plain": [
       "88.0"
      ]
     },
     "execution_count": 2,
     "metadata": {},
     "output_type": "execute_result"
    }
   ],
   "source": [
    "speed = 800\n",
    "time = 110\n",
    "\n",
    "speed * time / 1000"
   ]
  },
  {
   "cell_type": "markdown",
   "id": "fb7f03b6",
   "metadata": {},
   "source": [
    "#### 1.3 리스트(list)\n",
    "https://wikidocs.net/53"
   ]
  },
  {
   "cell_type": "code",
   "execution_count": 3,
   "id": "e184083b",
   "metadata": {},
   "outputs": [
    {
     "data": {
      "text/plain": [
       "4"
      ]
     },
     "execution_count": 3,
     "metadata": {},
     "output_type": "execute_result"
    }
   ],
   "source": [
    "family = ['mother', 'father', 'gentleman', 'sexy lady']\n",
    "len(family)"
   ]
  },
  {
   "cell_type": "code",
   "execution_count": 4,
   "id": "82391cb0",
   "metadata": {},
   "outputs": [
    {
     "data": {
      "text/plain": [
       "['mother', 'father', 'sexy lady']"
      ]
     },
     "execution_count": 4,
     "metadata": {},
     "output_type": "execute_result"
    }
   ],
   "source": [
    "# remove\n",
    "family.remove('gentleman')\n",
    "family"
   ]
  },
  {
   "cell_type": "markdown",
   "id": "dfeaa660",
   "metadata": {},
   "source": [
    "#### 1.6.1 연습 문제: 제곱\n",
    "https://wikidocs.net/101632"
   ]
  },
  {
   "cell_type": "code",
   "execution_count": 5,
   "id": "2dbef71e",
   "metadata": {},
   "outputs": [
    {
     "name": "stdout",
     "output_type": "stream",
     "text": [
      "정수를 입력해주세요: 3\n"
     ]
    },
    {
     "data": {
      "text/plain": [
       "9"
      ]
     },
     "execution_count": 5,
     "metadata": {},
     "output_type": "execute_result"
    }
   ],
   "source": [
    "user_input = input(\"정수를 입력해주세요: \")\n",
    "number = int(user_input)\n",
    "\n",
    "number**2\n",
    "\n",
    "# 정수형으로 바꿔주자!"
   ]
  },
  {
   "cell_type": "markdown",
   "id": "1de0c41f",
   "metadata": {},
   "source": [
    "# 240113"
   ]
  },
  {
   "cell_type": "markdown",
   "id": "539a5605",
   "metadata": {},
   "source": [
    "## 2. 제어 구조"
   ]
  },
  {
   "cell_type": "markdown",
   "id": "5ea7d411",
   "metadata": {},
   "source": [
    "### 2.1 while을 사용하는 반복문"
   ]
  },
  {
   "cell_type": "markdown",
   "id": "c264477f",
   "metadata": {},
   "source": [
    "#### 2.1.1 연습 문제: 입력받은 숫자만큼 반복하기(while)\n",
    "https://wikidocs.net/101633"
   ]
  },
  {
   "cell_type": "code",
   "execution_count": 6,
   "id": "fdb1cbfb",
   "metadata": {},
   "outputs": [
    {
     "name": "stdout",
     "output_type": "stream",
     "text": [
      "숫자를 입력하세요: 3\n",
      " 3\n",
      " 3\n",
      " 3\n"
     ]
    }
   ],
   "source": [
    "num = int(input(\"숫자를 입력하세요: \"))\n",
    "i = 0\n",
    "while i < 3:\n",
    "    print('', num) # 파이썬은 콤마면 되는구나...\n",
    "    i+=1"
   ]
  },
  {
   "cell_type": "markdown",
   "id": "aa888386",
   "metadata": {},
   "source": [
    "#### 2.1.2 연습 문제: 제곱표(while)\n",
    "https://wikidocs.net/86465"
   ]
  },
  {
   "cell_type": "code",
   "execution_count": 7,
   "id": "63e5264a",
   "metadata": {},
   "outputs": [
    {
     "name": "stdout",
     "output_type": "stream",
     "text": [
      "정수 한 개 입력해보시렵니까: 3\n",
      "1 1\n",
      "2 4\n",
      "3 9\n"
     ]
    }
   ],
   "source": [
    "num = int(input(\"정수 한 개 입력해보시렵니까: \"))\n",
    "i = 1\n",
    "\n",
    "while i <= num:\n",
    "    print(i, i**2)\n",
    "    i+=1"
   ]
  },
  {
   "cell_type": "markdown",
   "id": "53fec28b",
   "metadata": {},
   "source": [
    "#### 2.1.3 연습 문제: 얌체공\n",
    "https://wikidocs.net/85687"
   ]
  },
  {
   "cell_type": "code",
   "execution_count": 8,
   "id": "e8e75419",
   "metadata": {},
   "outputs": [
    {
     "name": "stdout",
     "output_type": "stream",
     "text": [
      "1 60.0\n",
      "2 36.0\n",
      "3 21.6\n",
      "4 12.96\n",
      "5 7.776\n",
      "6 4.6656\n",
      "7 2.7994\n",
      "8 1.6796\n",
      "9 1.0078\n",
      "10 0.6047\n"
     ]
    }
   ],
   "source": [
    "height = 100\n",
    "times = 1\n",
    "\n",
    "while times <= 10:\n",
    "    height = height * 3 / 5\n",
    "    print(times, round(height, 4))\n",
    "    times += 1"
   ]
  },
  {
   "cell_type": "markdown",
   "id": "d664581b",
   "metadata": {},
   "source": [
    "#### 2.1.4 연습 문제: 코드를 보고 실행 결과 맞히기\n",
    "https://wikidocs.net/115057"
   ]
  },
  {
   "cell_type": "markdown",
   "id": "fff22550",
   "metadata": {},
   "source": [
    "## 2.2 조건문(if-elif-else)"
   ]
  },
  {
   "cell_type": "markdown",
   "id": "bf50bf30",
   "metadata": {},
   "source": [
    "### 2.2.1 연습 문제: 숫자 읽기(1~3)\n",
    "https://wikidocs.net/123990"
   ]
  },
  {
   "cell_type": "code",
   "execution_count": 9,
   "id": "c894e9aa",
   "metadata": {},
   "outputs": [
    {
     "name": "stdout",
     "output_type": "stream",
     "text": [
      "숫자를 입력해주세요: 3\n",
      "삼\n"
     ]
    }
   ],
   "source": [
    "num = int(input(\"숫자를 입력해주세요: \"))\n",
    "\n",
    "if num == 1:\n",
    "    ans = \"일\"\n",
    "elif num == 2:\n",
    "    ans = \"이\"\n",
    "elif num == 3:\n",
    "    ans = \"삼\"\n",
    "\n",
    "print(ans)"
   ]
  },
  {
   "cell_type": "markdown",
   "id": "57c0bb31",
   "metadata": {},
   "source": [
    "#### 2.2.2 연습 문제: 나이에 따른 세대 구분 (1)\n",
    "https://wikidocs.net/190149"
   ]
  },
  {
   "cell_type": "code",
   "execution_count": 10,
   "id": "0096d242",
   "metadata": {},
   "outputs": [
    {
     "name": "stdout",
     "output_type": "stream",
     "text": [
      "몇년도에 태어나셨습니까? 1994\n",
      "You are a 밀레니얼(millennial)\n"
     ]
    }
   ],
   "source": [
    "age = int(input(\"몇년도에 태어나셨습니까? \"))\n",
    "if age <= 1924:\n",
    "    ans = \"가장 위대한 세대(The Greatest Generation)\"\n",
    "elif age <= 1945:\n",
    "    ans = \"침묵 세대(The Silent Generation)\"\n",
    "elif age <= 1964:\n",
    "    ans = \"베이비붐 세대(baby boomer)\"\n",
    "elif age <= 1980:\n",
    "    ans = \"X세대(Generation X)\"\n",
    "elif age <= 1996:\n",
    "    ans = \"밀레니얼(millennial)\"\n",
    "else:\n",
    "    ans = \"Z세대(Generation Z)\"\n",
    "\n",
    "print(\"You are a\", ans)"
   ]
  },
  {
   "cell_type": "markdown",
   "id": "9aedc884",
   "metadata": {},
   "source": [
    "#### 2.2.3 연습 문제: 단위 기호\n",
    "https://wikidocs.net/163168"
   ]
  },
  {
   "cell_type": "code",
   "execution_count": 11,
   "id": "d19b6614",
   "metadata": {},
   "outputs": [
    {
     "name": "stdout",
     "output_type": "stream",
     "text": [
      "뭘로 할건데: 3\n",
      "3\n"
     ]
    }
   ],
   "source": [
    "num = int(input(\"뭘로 할건데: \"))\n",
    "result = str(num)\n",
    "\n",
    "if num >= 1000:\n",
    "    result = str(num // 1000) + 'k'\n",
    "\n",
    "print(result)"
   ]
  },
  {
   "cell_type": "markdown",
   "id": "30ced7e3",
   "metadata": {},
   "source": [
    "#### 2.2.4 연습 문제: 양수만 덧셈하기\n",
    "https://wikidocs.net/101634"
   ]
  },
  {
   "cell_type": "code",
   "execution_count": 12,
   "id": "54932594",
   "metadata": {},
   "outputs": [
    {
     "name": "stdout",
     "output_type": "stream",
     "text": [
      "3\n",
      "4\n",
      "-1\n",
      "7\n"
     ]
    }
   ],
   "source": [
    "# 이건 내거고\n",
    "num = int(input())\n",
    "ans = 0\n",
    "\n",
    "while num >= 0:\n",
    "    ans += num\n",
    "    num = int(input())\n",
    "\n",
    "print(ans)"
   ]
  },
  {
   "cell_type": "code",
   "execution_count": 13,
   "id": "bdb86db5",
   "metadata": {},
   "outputs": [
    {
     "name": "stdout",
     "output_type": "stream",
     "text": [
      "1\n",
      "2\n",
      "3\n",
      "-1\n",
      "6\n"
     ]
    }
   ],
   "source": [
    "# 정답은\n",
    "sum = 0\n",
    "while True:\n",
    "    num = int(input())\n",
    "    if num < 0:\n",
    "        break\n",
    "    else:\n",
    "        sum += num\n",
    "\n",
    "print(sum)"
   ]
  },
  {
   "cell_type": "markdown",
   "id": "b011417f",
   "metadata": {},
   "source": [
    "#### 2.2.5 연습 문제: 윤년 판별하기\n",
    "https://wikidocs.net/88691"
   ]
  },
  {
   "cell_type": "code",
   "execution_count": 14,
   "id": "0bb500b6",
   "metadata": {},
   "outputs": [
    {
     "name": "stdout",
     "output_type": "stream",
     "text": [
      "1996\n",
      "윤년\n"
     ]
    }
   ],
   "source": [
    "# 내 답\n",
    "year = int(input())\n",
    "ans = \"\"\n",
    "\n",
    "if (year % 4 == 0) & (year % 100 == 0) & (year % 400 == 0):\n",
    "    ans = \"윤년\"\n",
    "elif (year % 4 == 0) & (year % 100 == 0):\n",
    "    ans = \"평년\"\n",
    "elif (year % 4 == 0):\n",
    "    ans = \"윤년\"\n",
    "    \n",
    "print(ans)"
   ]
  },
  {
   "cell_type": "code",
   "execution_count": 15,
   "id": "7f9fbed4",
   "metadata": {},
   "outputs": [
    {
     "name": "stdout",
     "output_type": "stream",
     "text": [
      "1964\n",
      "1964 is a leap year\n"
     ]
    }
   ],
   "source": [
    "# 정답\n",
    "is_leap_year = None\n",
    "\n",
    "year = int(input())\n",
    "\n",
    "if year % 4 == 0:\n",
    "    if year % 100 == 0:\n",
    "        if year % 400 == 0:\n",
    "            is_leap_year = True\n",
    "        else:\n",
    "            is_leap_year = False\n",
    "    else:\n",
    "        is_leap_year = True\n",
    "else:\n",
    "    is_leap_year = False\n",
    "    \n",
    "if is_leap_year:\n",
    "    print(f'{year} is a leap year')\n",
    "else:\n",
    "    print(f'{year} is not an leap year')"
   ]
  },
  {
   "cell_type": "markdown",
   "id": "90e1c6d3",
   "metadata": {},
   "source": [
    "#### 2.2.7 연습 문제: 나이에 따른 세대 구분 (2)\n",
    "https://wikidocs.net/190208"
   ]
  },
  {
   "cell_type": "code",
   "execution_count": 16,
   "id": "18a5119f",
   "metadata": {},
   "outputs": [
    {
     "name": "stdout",
     "output_type": "stream",
     "text": [
      "한국인입니까?: y\n",
      "출생년도: 1964\n",
      "X세대(Generation X)\n"
     ]
    }
   ],
   "source": [
    "# 내거긴 한데 이거보다는 정답이 훨씬 나음\n",
    "nationality = input(\"한국인입니까?: \")\n",
    "age = int(input(\"출생년도: \"))\n",
    "\n",
    "if nationality == \"y\":\n",
    "    if age <= 1924:\n",
    "        ans = \"가장 위대한 세대(The Greatest Generation)\"\n",
    "    elif age <= 1954:\n",
    "        ans = \"침묵 세대(The Silent Generation)\"\n",
    "    elif age <= 1963:\n",
    "        ans = \"베이비붐 세대(baby boomer)\"\n",
    "    elif age <= 1980:\n",
    "        ans = \"X세대(Generation X)\"\n",
    "    elif age <= 1996:\n",
    "        ans = \"밀레니얼(millennial)\"\n",
    "    else:\n",
    "        ans = \"Z세대(Generation Z)\"\n",
    "elif nationality == \"n\":\n",
    "    if age <= 1924:\n",
    "        ans = \"가장 위대한 세대(The Greatest Generation)\"\n",
    "    elif age <= 1945:\n",
    "        ans = \"침묵 세대(The Silent Generation)\"\n",
    "    elif age <= 1964:\n",
    "        ans = \"베이비붐 세대(baby boomer)\"\n",
    "    elif age <= 1980:\n",
    "        ans = \"X세대(Generation X)\"\n",
    "    elif age <= 1996:\n",
    "        ans = \"밀레니얼(millennial)\"\n",
    "    else:\n",
    "        ans = \"Z세대(Generation Z)\"\n",
    "    \n",
    "print(ans)"
   ]
  },
  {
   "cell_type": "code",
   "execution_count": 17,
   "id": "124b87a2",
   "metadata": {},
   "outputs": [
    {
     "name": "stdout",
     "output_type": "stream",
     "text": [
      "What year were you born? 1964\n",
      "Are you Korean?(y/n) y\n",
      "You're a Gen X.\n"
     ]
    }
   ],
   "source": [
    "# 정답\n",
    "\n",
    "y = int(input('What year were you born? '))\n",
    "\n",
    "gen = None\n",
    "if y <= 1924:\n",
    "    gen = 'the Greatest Generation'\n",
    "elif y <= 1945 or (\n",
    "        y <= 1954 and input(\"Are you Korean?(y/n) \").lower()[0] == 'y'\n",
    "    ):\n",
    "    gen = 'the Silent Generation'\n",
    "elif y <= 1963 or (\n",
    "        y <= 1964 and input(\"Are you Korean?(y/n) \").lower()[0] != 'y'\n",
    "    ):\n",
    "    gen = 'a baby boomer'\n",
    "elif y <= 1980:\n",
    "    gen = 'a Gen X'\n",
    "elif y <= 1996:\n",
    "    gen = 'a millennial'\n",
    "else:\n",
    "    gen = 'a Gen Z'\n",
    "\n",
    "print(f\"You're {gen}.\")"
   ]
  },
  {
   "cell_type": "markdown",
   "id": "10dd0b37",
   "metadata": {},
   "source": [
    "### 2.3 for를 사용하는 반복문"
   ]
  },
  {
   "cell_type": "markdown",
   "id": "b49c40ab",
   "metadata": {},
   "source": [
    "#### 2.3.1 연습 문제: 입력받은 숫자만큼 반복하기(for)\n",
    "https://wikidocs.net/105693"
   ]
  },
  {
   "cell_type": "code",
   "execution_count": 18,
   "id": "b0988697",
   "metadata": {},
   "outputs": [
    {
     "name": "stdout",
     "output_type": "stream",
     "text": [
      "3\n",
      " 3\n",
      " 3\n",
      " 3\n"
     ]
    }
   ],
   "source": [
    "num = int(input())\n",
    "\n",
    "for i in range(num):\n",
    "    print('', num)"
   ]
  },
  {
   "cell_type": "markdown",
   "id": "2d0a2ccc",
   "metadata": {},
   "source": [
    "#### 2.3.2 연습 문제: 제곱표(for)\n",
    "https://wikidocs.net/105694"
   ]
  },
  {
   "cell_type": "code",
   "execution_count": 19,
   "id": "50c50054",
   "metadata": {},
   "outputs": [
    {
     "name": "stdout",
     "output_type": "stream",
     "text": [
      "3\n",
      "1 1\n",
      "2 4\n",
      "3 9\n"
     ]
    }
   ],
   "source": [
    "num = int(input())\n",
    "\n",
    "for i in range(num):\n",
    "    print(i+1, (i+1)**2)"
   ]
  },
  {
   "cell_type": "markdown",
   "id": "10f32d0a",
   "metadata": {},
   "source": [
    "#### 2.3.3 연습 문제: 화학 실험실\n",
    "https://wikidocs.net/99692"
   ]
  },
  {
   "cell_type": "code",
   "execution_count": 20,
   "id": "893b453e",
   "metadata": {},
   "outputs": [
    {
     "name": "stdout",
     "output_type": "stream",
     "text": [
      "10 20\n",
      "15\n"
     ]
    },
    {
     "ename": "SyntaxError",
     "evalue": "'break' outside loop (3742705803.py, line 13)",
     "output_type": "error",
     "traceback": [
      "\u001b[1;36m  Input \u001b[1;32mIn [20]\u001b[1;36m\u001b[0m\n\u001b[1;33m    break\u001b[0m\n\u001b[1;37m    ^\u001b[0m\n\u001b[1;31mSyntaxError\u001b[0m\u001b[1;31m:\u001b[0m 'break' outside loop\n"
     ]
    }
   ],
   "source": [
    "L = input().split()\n",
    "min = int(L[0])\n",
    "max = int(L[1])\n",
    "\n",
    "temp = int(input())\n",
    "\n",
    "if temp != -999:\n",
    "    if min <= temp <= max:\n",
    "        print(\"Nothing to report\")\n",
    "        temp = int(input())\n",
    "    else:\n",
    "        print(\"Alert!\")\n",
    "        break"
   ]
  },
  {
   "cell_type": "markdown",
   "id": "94bfdb55",
   "metadata": {},
   "source": [
    "## 3. 함수"
   ]
  },
  {
   "cell_type": "markdown",
   "id": "95ca6249",
   "metadata": {},
   "source": [
    "### 3.1 함수"
   ]
  },
  {
   "cell_type": "markdown",
   "id": "480150b7",
   "metadata": {},
   "source": [
    "#### 3.1.1 연습 문제: 자릿수를 구하는 함수 만들기\n",
    "https://wikidocs.net/192431"
   ]
  },
  {
   "cell_type": "code",
   "execution_count": 21,
   "id": "dbe81db7",
   "metadata": {},
   "outputs": [
    {
     "name": "stdout",
     "output_type": "stream",
     "text": [
      "9\n"
     ]
    }
   ],
   "source": [
    "# 내거\n",
    "def numOfDigits(a):\n",
    "    b = str(a)\n",
    "    ans = len(b)\n",
    "    print(ans)\n",
    "\n",
    "numOfDigits(123456789)"
   ]
  },
  {
   "cell_type": "code",
   "execution_count": 22,
   "id": "22434961",
   "metadata": {},
   "outputs": [
    {
     "name": "stdout",
     "output_type": "stream",
     "text": [
      "9\n"
     ]
    }
   ],
   "source": [
    "# 정답\n",
    "def numOfDigits(num):\n",
    "    print(len(str(num)))\n",
    "    \n",
    "numOfDigits(123456789)"
   ]
  },
  {
   "cell_type": "markdown",
   "id": "f09c8d09",
   "metadata": {},
   "source": [
    "#### 3.1.2 연습 문제: 구구단\n",
    "https://wikidocs.net/67"
   ]
  },
  {
   "cell_type": "code",
   "execution_count": 23,
   "id": "4dadde36",
   "metadata": {},
   "outputs": [
    {
     "name": "stdout",
     "output_type": "stream",
     "text": [
      "2 * 1 = 2\n",
      "2 * 2 = 4\n",
      "2 * 3 = 6\n",
      "2 * 4 = 8\n",
      "2 * 5 = 10\n",
      "2 * 6 = 12\n",
      "2 * 7 = 14\n",
      "2 * 8 = 16\n",
      "2 * 9 = 18\n",
      "3 * 1 = 3\n",
      "3 * 2 = 6\n",
      "3 * 3 = 9\n",
      "3 * 4 = 12\n",
      "3 * 5 = 15\n",
      "3 * 6 = 18\n",
      "3 * 7 = 21\n",
      "3 * 8 = 24\n",
      "3 * 9 = 27\n",
      "4 * 1 = 4\n",
      "4 * 2 = 8\n",
      "4 * 3 = 12\n",
      "4 * 4 = 16\n",
      "4 * 5 = 20\n",
      "4 * 6 = 24\n",
      "4 * 7 = 28\n",
      "4 * 8 = 32\n",
      "4 * 9 = 36\n",
      "5 * 1 = 5\n",
      "5 * 2 = 10\n",
      "5 * 3 = 15\n",
      "5 * 4 = 20\n",
      "5 * 5 = 25\n",
      "5 * 6 = 30\n",
      "5 * 7 = 35\n",
      "5 * 8 = 40\n",
      "5 * 9 = 45\n",
      "6 * 1 = 6\n",
      "6 * 2 = 12\n",
      "6 * 3 = 18\n",
      "6 * 4 = 24\n",
      "6 * 5 = 30\n",
      "6 * 6 = 36\n",
      "6 * 7 = 42\n",
      "6 * 8 = 48\n",
      "6 * 9 = 54\n",
      "7 * 1 = 7\n",
      "7 * 2 = 14\n",
      "7 * 3 = 21\n",
      "7 * 4 = 28\n",
      "7 * 5 = 35\n",
      "7 * 6 = 42\n",
      "7 * 7 = 49\n",
      "7 * 8 = 56\n",
      "7 * 9 = 63\n",
      "8 * 1 = 8\n",
      "8 * 2 = 16\n",
      "8 * 3 = 24\n",
      "8 * 4 = 32\n",
      "8 * 5 = 40\n",
      "8 * 6 = 48\n",
      "8 * 7 = 56\n",
      "8 * 8 = 64\n",
      "8 * 9 = 72\n",
      "9 * 1 = 9\n",
      "9 * 2 = 18\n",
      "9 * 3 = 27\n",
      "9 * 4 = 36\n",
      "9 * 5 = 45\n",
      "9 * 6 = 54\n",
      "9 * 7 = 63\n",
      "9 * 8 = 72\n",
      "9 * 9 = 81\n"
     ]
    }
   ],
   "source": [
    "def gugu():\n",
    "    for i in range(2, 10):\n",
    "        for j in range(1, 10):\n",
    "            print(i, '*', j, '=', i*j)\n",
    "gugu()"
   ]
  },
  {
   "cell_type": "code",
   "execution_count": 24,
   "id": "82b5ff61",
   "metadata": {},
   "outputs": [
    {
     "name": "stdout",
     "output_type": "stream",
     "text": [
      "2 * 1 =  2\n",
      "2 * 2 =  4\n",
      "2 * 3 =  6\n",
      "2 * 4 =  8\n",
      "2 * 5 = 10\n",
      "2 * 6 = 12\n",
      "2 * 7 = 14\n",
      "2 * 8 = 16\n",
      "2 * 9 = 18\n",
      "\n",
      "3 * 1 =  3\n",
      "3 * 2 =  6\n",
      "3 * 3 =  9\n",
      "3 * 4 = 12\n",
      "3 * 5 = 15\n",
      "3 * 6 = 18\n",
      "3 * 7 = 21\n",
      "3 * 8 = 24\n",
      "3 * 9 = 27\n",
      "\n",
      "4 * 1 =  4\n",
      "4 * 2 =  8\n",
      "4 * 3 = 12\n",
      "4 * 4 = 16\n",
      "4 * 5 = 20\n",
      "4 * 6 = 24\n",
      "4 * 7 = 28\n",
      "4 * 8 = 32\n",
      "4 * 9 = 36\n",
      "\n",
      "5 * 1 =  5\n",
      "5 * 2 = 10\n",
      "5 * 3 = 15\n",
      "5 * 4 = 20\n",
      "5 * 5 = 25\n",
      "5 * 6 = 30\n",
      "5 * 7 = 35\n",
      "5 * 8 = 40\n",
      "5 * 9 = 45\n",
      "\n",
      "6 * 1 =  6\n",
      "6 * 2 = 12\n",
      "6 * 3 = 18\n",
      "6 * 4 = 24\n",
      "6 * 5 = 30\n",
      "6 * 6 = 36\n",
      "6 * 7 = 42\n",
      "6 * 8 = 48\n",
      "6 * 9 = 54\n",
      "\n",
      "7 * 1 =  7\n",
      "7 * 2 = 14\n",
      "7 * 3 = 21\n",
      "7 * 4 = 28\n",
      "7 * 5 = 35\n",
      "7 * 6 = 42\n",
      "7 * 7 = 49\n",
      "7 * 8 = 56\n",
      "7 * 9 = 63\n",
      "\n",
      "8 * 1 =  8\n",
      "8 * 2 = 16\n",
      "8 * 3 = 24\n",
      "8 * 4 = 32\n",
      "8 * 5 = 40\n",
      "8 * 6 = 48\n",
      "8 * 7 = 56\n",
      "8 * 8 = 64\n",
      "8 * 9 = 72\n",
      "\n",
      "9 * 1 =  9\n",
      "9 * 2 = 18\n",
      "9 * 3 = 27\n",
      "9 * 4 = 36\n",
      "9 * 5 = 45\n",
      "9 * 6 = 54\n",
      "9 * 7 = 63\n",
      "9 * 8 = 72\n",
      "9 * 9 = 81\n",
      "\n"
     ]
    }
   ],
   "source": [
    "# 정답\n",
    "def multi(m):\n",
    "    for n in range(1, 10):\n",
    "        print(f'{m} * {n} = {m*n:2d}')\n",
    "\n",
    "if __name__ == '__main__':\n",
    "    for i in range(2, 10):\n",
    "        multi(i)\n",
    "        print()"
   ]
  },
  {
   "cell_type": "markdown",
   "id": "a56ff4d8",
   "metadata": {},
   "source": [
    "### 3.2 반환(return) 문"
   ]
  },
  {
   "cell_type": "markdown",
   "id": "d605a7e7",
   "metadata": {},
   "source": [
    "#### 3.2.1 연습 문제: 숫자 읽기 함수(1~10)\n",
    "https://wikidocs.net/124002"
   ]
  },
  {
   "cell_type": "code",
   "execution_count": 25,
   "id": "7ff3ab25",
   "metadata": {},
   "outputs": [
    {
     "data": {
      "text/plain": [
       "'일'"
      ]
     },
     "execution_count": 25,
     "metadata": {},
     "output_type": "execute_result"
    }
   ],
   "source": [
    "def korean_number(num):\n",
    "    if int(num) == 1:\n",
    "        return '일'\n",
    "    elif int(num) == 2:\n",
    "        return '이'\n",
    "    elif int(num) == 3:\n",
    "        return '삼'\n",
    "    elif int(num) == 4:\n",
    "        return '사'\n",
    "    elif int(num) == 5:\n",
    "        return '오'\n",
    "    elif int(num) == 6:\n",
    "        return '육'\n",
    "    elif int(num) == 7:\n",
    "        return '칠'\n",
    "    elif int(num) == 8:\n",
    "        return '팔'\n",
    "    elif int(num) == 9:\n",
    "        return '구'\n",
    "    elif int(num) == 10:\n",
    "        return '십'\n",
    "    \n",
    "korean_number(1)"
   ]
  },
  {
   "cell_type": "markdown",
   "id": "59a24250",
   "metadata": {},
   "source": [
    "#### 3.2.2 연습 문제: 함수 정의하기\n",
    "https://wikidocs.net/121662"
   ]
  },
  {
   "cell_type": "code",
   "execution_count": 26,
   "id": "99d9ce5e",
   "metadata": {},
   "outputs": [
    {
     "data": {
      "text/plain": [
       "'eee'"
      ]
     },
     "execution_count": 26,
     "metadata": {},
     "output_type": "execute_result"
    }
   ],
   "source": [
    "# 이야 파이썬 진짜 쉽네\n",
    "\n",
    "def triple(x):\n",
    "    return x*3\n",
    "\n",
    "triple('e')"
   ]
  },
  {
   "cell_type": "code",
   "execution_count": 27,
   "id": "aab26b56",
   "metadata": {},
   "outputs": [
    {
     "name": "stdout",
     "output_type": "stream",
     "text": [
      "26\n"
     ]
    }
   ],
   "source": [
    "from datetime import datetime\n",
    "today = datetime.today()\n",
    "\n",
    "def korean_age(birth_year):\n",
    "    return(today.year - birth_year + 1)\n",
    "\n",
    "print(korean_age(1999))"
   ]
  },
  {
   "cell_type": "markdown",
   "id": "5417a795",
   "metadata": {},
   "source": [
    "#### 3.2.3 연습 문제: 이자(단리) 계산\n",
    "https://wikidocs.net/109529"
   ]
  },
  {
   "cell_type": "code",
   "execution_count": 28,
   "id": "ad02cebe",
   "metadata": {},
   "outputs": [
    {
     "data": {
      "text/plain": [
       "1937500.0"
      ]
     },
     "execution_count": 28,
     "metadata": {},
     "output_type": "execute_result"
    }
   ],
   "source": [
    "# 문제 1\n",
    "def simple_interest(p, r, t):\n",
    "    return p*r*t\n",
    "\n",
    "simple_interest(10000000, 0.03875, 5)"
   ]
  },
  {
   "cell_type": "code",
   "execution_count": 29,
   "id": "b1936078",
   "metadata": {},
   "outputs": [
    {
     "data": {
      "text/plain": [
       "11937500.0"
      ]
     },
     "execution_count": 29,
     "metadata": {},
     "output_type": "execute_result"
    }
   ],
   "source": [
    "# 문제 2\n",
    "def simple_interest_amount(p,r,t):\n",
    "    return p*(1 + r*t)\n",
    "\n",
    "simple_interest_amount(10000000, 0.03875, 5)"
   ]
  },
  {
   "cell_type": "markdown",
   "id": "1270d106",
   "metadata": {},
   "source": [
    "#### 3.2.4 연습 문제: 복리 계산\n",
    "https://wikidocs.net/109530"
   ]
  },
  {
   "cell_type": "code",
   "execution_count": 30,
   "id": "5b041ce5",
   "metadata": {},
   "outputs": [
    {
     "data": {
      "text/plain": [
       "1938836.8221341055"
      ]
     },
     "execution_count": 30,
     "metadata": {},
     "output_type": "execute_result"
    }
   ],
   "source": [
    "def compound_interest_amount(p,r,t,n):\n",
    "    return p*(1+r/n)**(t*n)\n",
    "\n",
    "compound_interest_amount(1500000, 0.043, 6, 4)"
   ]
  },
  {
   "cell_type": "markdown",
   "id": "b5ab847c",
   "metadata": {},
   "source": [
    "### 3.5 람다(lambda)"
   ]
  },
  {
   "cell_type": "code",
   "execution_count": 31,
   "id": "13bd8cc2",
   "metadata": {},
   "outputs": [
    {
     "name": "stdout",
     "output_type": "stream",
     "text": [
      "[0, 1, 4, 9, 16]\n"
     ]
    }
   ],
   "source": [
    "# map()\n",
    "result = list(map(lambda x: x ** 2, range(5)))\n",
    "print(result)"
   ]
  },
  {
   "cell_type": "code",
   "execution_count": 32,
   "id": "3bd6347d",
   "metadata": {},
   "outputs": [
    {
     "name": "stdout",
     "output_type": "stream",
     "text": [
      "10\n",
      "edcba\n"
     ]
    }
   ],
   "source": [
    "# reduce()\n",
    "from functools import reduce # 필수적\n",
    "print(reduce(lambda x,y: x+y, [0,1,2,3,4]))\n",
    "print(reduce(lambda x,y: y+x, 'abcde'))"
   ]
  },
  {
   "cell_type": "code",
   "execution_count": 33,
   "id": "bb25f83d",
   "metadata": {},
   "outputs": [
    {
     "name": "stdout",
     "output_type": "stream",
     "text": [
      "[0, 1, 2, 3, 4]\n",
      "[1, 3, 5, 7, 9]\n"
     ]
    }
   ],
   "source": [
    "# filter()\n",
    "print(list(filter(lambda x: x < 5, range(10))))\n",
    "\n",
    "print(list(filter(lambda x: x % 2, range(10))))"
   ]
  },
  {
   "cell_type": "markdown",
   "id": "a45752db",
   "metadata": {},
   "source": [
    "#### 3.5.1 연습 문제: 놀이 공원 (1)\n",
    "https://wikidocs.net/165950"
   ]
  },
  {
   "cell_type": "code",
   "execution_count": 34,
   "id": "e930a062",
   "metadata": {},
   "outputs": [
    {
     "name": "stdout",
     "output_type": "stream",
     "text": [
      "플라이벤처: 140cm~195cm\n",
      "이름: 플라이벤처\n",
      "하한: 140\n",
      "상한: 195\n"
     ]
    }
   ],
   "source": [
    "def read(text):\n",
    "    ridename, limit = map(str.strip, text.split(':'))\n",
    "    \n",
    "    cmmin = cmmax = None\n",
    "    if '~' in limit:\n",
    "        templist = []\n",
    "        for x in limit.split('~'):\n",
    "            templist.append(int(x.replace('cm', '')))\n",
    "        cmmin, cmmax = templist[0], templist[1]\n",
    "    elif \"이상\" in limit:\n",
    "        cmmin = int(limit.replace(\"이상\", \"\").replace(\"cm\", \"\"))\n",
    "    return ridename, cmmin, cmmax\n",
    "\n",
    "if __name__ == \"__main__\":\n",
    "    ridename, cmmin, cmmax = read(input())\n",
    "    \n",
    "    # cmmax가 None인 경우 따로 처리\n",
    "    cmmax_str = \"없음\" if cmmax is None else str(cmmax)\n",
    "    \n",
    "    print(\"이름:\", ridename)\n",
    "    print(\"하한:\", cmmin)\n",
    "    print(\"상한:\", cmmax_str)"
   ]
  },
  {
   "cell_type": "markdown",
   "id": "580bf0a8",
   "metadata": {},
   "source": [
    "## 4. 데이터 타입"
   ]
  },
  {
   "cell_type": "markdown",
   "id": "ce1c1cd4",
   "metadata": {},
   "source": [
    "### 4.2 문자열과 리스트"
   ]
  },
  {
   "cell_type": "code",
   "execution_count": 35,
   "id": "afe00197",
   "metadata": {},
   "outputs": [
    {
     "data": {
      "text/plain": [
       "4"
      ]
     },
     "execution_count": 35,
     "metadata": {},
     "output_type": "execute_result"
    }
   ],
   "source": [
    "s = \"hello Python!\"\n",
    "s.find('o')"
   ]
  },
  {
   "cell_type": "code",
   "execution_count": 36,
   "id": "12163531",
   "metadata": {},
   "outputs": [
    {
     "name": "stdout",
     "output_type": "stream",
     "text": [
      "hello\n",
      "hello\n"
     ]
    }
   ],
   "source": [
    "s = 'hello Python!'\n",
    "h = s[0:6]\n",
    "print(h.rstrip())\n",
    "print(s.split()[0])"
   ]
  },
  {
   "cell_type": "code",
   "execution_count": 37,
   "id": "f11e9eb2",
   "metadata": {},
   "outputs": [],
   "source": [
    "prime = [3, 7, 11]\n",
    "prime.append(5) #[3, 7, 11, 5]\n",
    "prime.sort() #[3, 5, 7, 11]\n",
    "prime.insert(0,2) #[2, 3, 5, 7, 11]\n",
    "del prime[4] #[2, 3, 5, 7]\n",
    "\n",
    "a = prime.pop() # 삭제한 원소를 a 변수로 받음, [3, 5, 7]\n",
    "prime[0] = 1 #[1, 3, 5]"
   ]
  },
  {
   "cell_type": "markdown",
   "id": "44f23561",
   "metadata": {},
   "source": [
    "문자열을 리스트로 바꾸기"
   ]
  },
  {
   "cell_type": "code",
   "execution_count": 38,
   "id": "c22c7eb7",
   "metadata": {},
   "outputs": [
    {
     "name": "stdout",
     "output_type": "stream",
     "text": [
      "['B', 'e', ' ', 'h', 'a', 'p', 'p', 'y', '!']\n"
     ]
    },
    {
     "data": {
      "text/plain": [
       "['B', 'e', ' ', 'h', 'a', 'p', 'p', 'y', '!']"
      ]
     },
     "execution_count": 38,
     "metadata": {},
     "output_type": "execute_result"
    }
   ],
   "source": [
    "characters = []\n",
    "sentence = \"Be happy!\"\n",
    "for char in sentence:\n",
    "    characters.append(char)\n",
    "\n",
    "print(characters)\n",
    "list('Be happy!')"
   ]
  },
  {
   "cell_type": "markdown",
   "id": "61aa9e28",
   "metadata": {},
   "source": [
    "숫자를 문자열로 바꾸기"
   ]
  },
  {
   "cell_type": "code",
   "execution_count": 39,
   "id": "f57392f1",
   "metadata": {},
   "outputs": [
    {
     "data": {
      "text/plain": [
       "str"
      ]
     },
     "execution_count": 39,
     "metadata": {},
     "output_type": "execute_result"
    }
   ],
   "source": [
    "my_int = 123\n",
    "my_int = str(my_int)\n",
    "type(my_int)"
   ]
  },
  {
   "cell_type": "markdown",
   "id": "3377f5dd",
   "metadata": {},
   "source": [
    "문자열을 숫자로 바꾸기"
   ]
  },
  {
   "cell_type": "code",
   "execution_count": 40,
   "id": "841ce7c2",
   "metadata": {},
   "outputs": [
    {
     "data": {
      "text/plain": [
       "123"
      ]
     },
     "execution_count": 40,
     "metadata": {},
     "output_type": "execute_result"
    }
   ],
   "source": [
    "int('123')"
   ]
  },
  {
   "cell_type": "markdown",
   "id": "9a5c90bb",
   "metadata": {},
   "source": [
    "리스트 원소들의 합 구하기"
   ]
  },
  {
   "cell_type": "code",
   "execution_count": 41,
   "id": "ced8fb35",
   "metadata": {},
   "outputs": [
    {
     "ename": "TypeError",
     "evalue": "'int' object is not callable",
     "output_type": "error",
     "traceback": [
      "\u001b[1;31m---------------------------------------------------------------------------\u001b[0m",
      "\u001b[1;31mTypeError\u001b[0m                                 Traceback (most recent call last)",
      "Input \u001b[1;32mIn [41]\u001b[0m, in \u001b[0;36m<cell line: 2>\u001b[1;34m()\u001b[0m\n\u001b[0;32m      1\u001b[0m one_to_ten \u001b[38;5;241m=\u001b[39m \u001b[38;5;28mlist\u001b[39m(\u001b[38;5;28mrange\u001b[39m(\u001b[38;5;241m1\u001b[39m, \u001b[38;5;241m11\u001b[39m))\n\u001b[1;32m----> 2\u001b[0m my_sum \u001b[38;5;241m=\u001b[39m \u001b[38;5;28;43msum\u001b[39;49m\u001b[43m(\u001b[49m\u001b[43mone_to_ten\u001b[49m\u001b[43m)\u001b[49m\n",
      "\u001b[1;31mTypeError\u001b[0m: 'int' object is not callable"
     ]
    }
   ],
   "source": [
    "one_to_ten = list(range(1, 11))\n",
    "my_sum = sum(one_to_ten)"
   ]
  },
  {
   "cell_type": "markdown",
   "id": "d85ce7db",
   "metadata": {},
   "source": [
    "성적표"
   ]
  },
  {
   "cell_type": "code",
   "execution_count": 42,
   "id": "2546bdc7",
   "metadata": {},
   "outputs": [
    {
     "name": "stdout",
     "output_type": "stream",
     "text": [
      "[90, 85, 70] 245 81.66666666666667\n",
      "[88, 79, 92] 259 86.33333333333333\n",
      "[100, 100, 100] 300 100.0\n",
      "[90, 60, 70] 220 73.33333333333333\n"
     ]
    }
   ],
   "source": [
    "chulsu = [90, 85, 70]\n",
    "younghee = [88, 79, 92]\n",
    "yong = [100, 100, 100]\n",
    "minsu = [90, 60, 70]\n",
    "\n",
    "students = [chulsu, younghee, yong, minsu]\n",
    "\n",
    "for scores in students:\n",
    "    total = 0\n",
    "    for s in scores:\n",
    "        total = total + s\n",
    "    average = total / 3\n",
    "    print(scores, total, average)"
   ]
  },
  {
   "cell_type": "markdown",
   "id": "f769a568",
   "metadata": {},
   "source": [
    "#### 4.2.1 슬라이싱\n",
    "https://wikidocs.net/213786"
   ]
  },
  {
   "cell_type": "code",
   "execution_count": 43,
   "id": "cfe7deae",
   "metadata": {},
   "outputs": [
    {
     "name": "stdout",
     "output_type": "stream",
     "text": [
      "ld!\n"
     ]
    },
    {
     "data": {
      "text/plain": [
       "'nohtyP'"
      ]
     },
     "execution_count": 43,
     "metadata": {},
     "output_type": "execute_result"
    }
   ],
   "source": [
    "# replace()\n",
    "h = 'Hello world!'\n",
    "h.replace('world', 'Python') #'Hello Python!'\n",
    "print(h[-3:]) #뒤에서 3번째부터 끝까지, ld!\n",
    "\n",
    "# 역순복사\n",
    "p = 'Python'\n",
    "p[::-1] #'nohtyP'"
   ]
  },
  {
   "cell_type": "markdown",
   "id": "c2722d4e",
   "metadata": {},
   "source": [
    "#### 4.2.2 연습 문제: 회문 판별 함수 만들기\n",
    "https://wikidocs.net/121842"
   ]
  },
  {
   "cell_type": "code",
   "execution_count": 44,
   "id": "df64a5cf",
   "metadata": {},
   "outputs": [
    {
     "data": {
      "text/plain": [
       "True"
      ]
     },
     "execution_count": 44,
     "metadata": {},
     "output_type": "execute_result"
    }
   ],
   "source": [
    "def palindrome(word):\n",
    "    return word.lower().replace(' ', '') == word[::-1].lower().replace(' ', '')\n",
    "\n",
    "palindrome('My gym')"
   ]
  },
  {
   "cell_type": "markdown",
   "id": "6fb5898f",
   "metadata": {},
   "source": [
    "### 4.3 튜플(tuple)"
   ]
  },
  {
   "cell_type": "code",
   "execution_count": 45,
   "id": "ba49921e",
   "metadata": {},
   "outputs": [
    {
     "name": "stdout",
     "output_type": "stream",
     "text": [
      "1 2 (3, 4, 5, 6, 7, 8, 9, 10)\n"
     ]
    }
   ],
   "source": [
    "def magu_print(x, y, *rest): # *찍으면 그 이후로 들어오는 것들은 모두 튜플로\n",
    "    print(x, y, rest)\n",
    "\n",
    "magu_print(1,2,3,4,5,6,7,8,9,10)"
   ]
  },
  {
   "cell_type": "code",
   "execution_count": 46,
   "id": "547c3f9b",
   "metadata": {},
   "outputs": [
    {
     "name": "stdout",
     "output_type": "stream",
     "text": [
      "q: (1, 5, 3)\n",
      "r: ((1,), 5, (3,))\n"
     ]
    }
   ],
   "source": [
    "t = ('a', 'b', 'c')\n",
    "empty = () # 빈 튜플 만들 때에는 꼭 ()\n",
    "one = 5, # 한 개 원소만 있으면 원소 뒤에 콤마 필요\n",
    "\n",
    "# 리스트와 달리 원소값을 직접 바꿀 수 없으니, 오려붙이는 방법\n",
    "p = (1,2,3)\n",
    "q = p[:1] + (5,) + p[2:]\n",
    "print(\"q:\", q)\n",
    "\n",
    "r = p[:1], 5, p[2:]\n",
    "print(\"r:\", r)"
   ]
  },
  {
   "cell_type": "markdown",
   "id": "c173b46d",
   "metadata": {},
   "source": [
    "tuple -> list // list -> tuple"
   ]
  },
  {
   "cell_type": "code",
   "execution_count": 47,
   "id": "13d52662",
   "metadata": {},
   "outputs": [
    {
     "name": "stdout",
     "output_type": "stream",
     "text": [
      "q: [1, 2, 3]\n",
      "r: (1, 2, 3)\n"
     ]
    }
   ],
   "source": [
    "p = 1, 2, 3\n",
    "q = list(p) # tuple -> list\n",
    "r = tuple(q) # list -> tuple\n",
    "\n",
    "print(\"q:\", q)\n",
    "print(\"r:\", r)"
   ]
  },
  {
   "cell_type": "markdown",
   "id": "19578e14",
   "metadata": {},
   "source": [
    "#### 4.3.1 연습 문제: 내일의 날짜 구하기(1)\n",
    "https://wikidocs.net/116204"
   ]
  },
  {
   "cell_type": "code",
   "execution_count": 49,
   "id": "dc44f601",
   "metadata": {},
   "outputs": [
    {
     "name": "stdout",
     "output_type": "stream",
     "text": [
      "2018 10 2\n",
      "10/2/2018\n"
     ]
    }
   ],
   "source": [
    "# 택도 없는 내 거\n",
    "day = input()\n",
    "\n",
    "year, month, date = day.split(' ')[0], day.split(' ')[1], day.split(' ')[2]\n",
    "\n",
    "print(f'{month}/{date}/{year}')"
   ]
  },
  {
   "cell_type": "code",
   "execution_count": 50,
   "id": "dd7c0285",
   "metadata": {},
   "outputs": [
    {
     "name": "stdout",
     "output_type": "stream",
     "text": [
      "2018 10 2\n",
      "10/02/2018\n",
      "10/03/2018\n"
     ]
    }
   ],
   "source": [
    "# 정답\n",
    "\n",
    "def read_date():\n",
    "    year, month, day = tuple(map(int, input().split()))\n",
    "    return year, month, day\n",
    "\n",
    "def print_date(date):\n",
    "    year, month, day = date\n",
    "    print(\"%02d/%02d/%04d\" % (month, day, year))\n",
    "    \n",
    "def advance_day(date):\n",
    "    year, month, day = date\n",
    "    \n",
    "    end_of_month = (month, day) in [(1, 31), (2, 28), (3, 31), (4, 30), (5,\n",
    "        31), (6, 30), (7, 31), (8, 31), (9, 30), (10, 31), (11, 30), (12, 31)]\n",
    "    \n",
    "    end_of_year = month == 12 and day == 31\n",
    "    \n",
    "    if end_of_month:\n",
    "        if end_of_year:\n",
    "            year += 1\n",
    "            month = 1\n",
    "            day = 1\n",
    "        else:\n",
    "            month += 1\n",
    "            day = 1\n",
    "    else:\n",
    "        day += 1\n",
    "        \n",
    "    return year, month, day\n",
    "\n",
    "if __name__ == \"__main__\":\n",
    "    today = read_date()\n",
    "    print_date(today)\n",
    "    tomorrow = advance_day(today)\n",
    "    print_date(tomorrow)"
   ]
  },
  {
   "cell_type": "markdown",
   "id": "497c9c18",
   "metadata": {},
   "source": [
    "### 4.4 딕셔너리(dict)"
   ]
  },
  {
   "cell_type": "code",
   "execution_count": 53,
   "id": "3009f3dd",
   "metadata": {},
   "outputs": [
    {
     "data": {
      "text/plain": [
       "{'python': 'snake'}"
      ]
     },
     "execution_count": 53,
     "metadata": {},
     "output_type": "execute_result"
    }
   ],
   "source": [
    "smalldic = {'dictionary': 'reference', 'python': 'snake'}\n",
    "smalldic['python'] #'snake'\n",
    "\n",
    "del smalldic['dictionary']\n",
    "smalldic"
   ]
  },
  {
   "cell_type": "code",
   "execution_count": 60,
   "id": "e4714a70",
   "metadata": {},
   "outputs": [
    {
     "name": "stdout",
     "output_type": "stream",
     "text": [
      "dict_keys(['mom', 'dad', 'baby'])\n",
      "dict_values(['Kim', 'Choi', 'Choi'])\n",
      "dict_items([('mom', 'Kim'), ('dad', 'Choi'), ('baby', 'Choi')])\n",
      "True\n",
      "False\n"
     ]
    }
   ],
   "source": [
    "family = {'mom': 'Kim', 'dad': 'Choi', 'baby': 'Choi'}\n",
    "print(family.keys())\n",
    "print(family.values())\n",
    "print(family.items())\n",
    "\n",
    "print('dad' in family)\n",
    "print('sister' in family)"
   ]
  },
  {
   "cell_type": "markdown",
   "id": "796f425a",
   "metadata": {},
   "source": [
    "### 4.5 세트(set)"
   ]
  },
  {
   "cell_type": "code",
   "execution_count": 65,
   "id": "fc90be89",
   "metadata": {},
   "outputs": [
    {
     "name": "stdout",
     "output_type": "stream",
     "text": [
      "<class 'set'>\n",
      "{'apple'}\n",
      "{'mango', 'orange', 'google', 'microsoft', 'apple', 'banana'}\n"
     ]
    }
   ],
   "source": [
    "fruits = {'apple', 'banana', 'orange'}\n",
    "fruits.add('mango')\n",
    "\n",
    "companies = set() # 빈 세트 가능\n",
    "companies = {'apple', 'microsoft', 'google'}\n",
    "\n",
    "print(type(companies))\n",
    "print(fruits & companies) # 교집합\n",
    "print(fruits | companies) # 합집합"
   ]
  },
  {
   "cell_type": "code",
   "execution_count": 66,
   "id": "5d782cc6",
   "metadata": {},
   "outputs": [
    {
     "name": "stdout",
     "output_type": "stream",
     "text": [
      "{'apple'}\n",
      "{'mango', 'orange', 'google', 'microsoft', 'apple', 'banana'}\n"
     ]
    }
   ],
   "source": [
    "# 여러 세트를 리스트에 담은 뒤 set의 메서드 사용 가능\n",
    "list_of_sets = [fruits, companies]\n",
    "print(set.intersection(*list_of_sets)) # 교집합\n",
    "print(set.union(*list_of_sets)) # 합집합"
   ]
  },
  {
   "cell_type": "code",
   "execution_count": 67,
   "id": "489f99b4",
   "metadata": {},
   "outputs": [
    {
     "data": {
      "text/plain": [
       "{1, 2, 4, 5, 7}"
      ]
     },
     "execution_count": 67,
     "metadata": {},
     "output_type": "execute_result"
    }
   ],
   "source": [
    "# 집합끼리 뺄셈도 가능!\n",
    "S1 = {1, 2, 3, 4, 5, 6, 7}\n",
    "S2 = {3, 6, 9}\n",
    "S1 - S2"
   ]
  },
  {
   "cell_type": "code",
   "execution_count": null,
   "id": "922410d9",
   "metadata": {},
   "outputs": [],
   "source": []
  },
  {
   "cell_type": "code",
   "execution_count": null,
   "id": "bebd3fad",
   "metadata": {},
   "outputs": [],
   "source": []
  },
  {
   "cell_type": "code",
   "execution_count": null,
   "id": "aab74a07",
   "metadata": {},
   "outputs": [],
   "source": []
  },
  {
   "cell_type": "code",
   "execution_count": null,
   "id": "794600ea",
   "metadata": {},
   "outputs": [],
   "source": []
  },
  {
   "cell_type": "code",
   "execution_count": null,
   "id": "a59e2f4c",
   "metadata": {},
   "outputs": [],
   "source": []
  },
  {
   "cell_type": "code",
   "execution_count": null,
   "id": "a93be00d",
   "metadata": {},
   "outputs": [],
   "source": []
  },
  {
   "cell_type": "code",
   "execution_count": null,
   "id": "ef368a99",
   "metadata": {},
   "outputs": [],
   "source": []
  },
  {
   "cell_type": "code",
   "execution_count": null,
   "id": "7d8e56f8",
   "metadata": {},
   "outputs": [],
   "source": []
  },
  {
   "cell_type": "code",
   "execution_count": null,
   "id": "ebfda512",
   "metadata": {},
   "outputs": [],
   "source": []
  }
 ],
 "metadata": {
  "kernelspec": {
   "display_name": "Python 3 (ipykernel)",
   "language": "python",
   "name": "python3"
  },
  "language_info": {
   "codemirror_mode": {
    "name": "ipython",
    "version": 3
   },
   "file_extension": ".py",
   "mimetype": "text/x-python",
   "name": "python",
   "nbconvert_exporter": "python",
   "pygments_lexer": "ipython3",
   "version": "3.9.12"
  }
 },
 "nbformat": 4,
 "nbformat_minor": 5
}
